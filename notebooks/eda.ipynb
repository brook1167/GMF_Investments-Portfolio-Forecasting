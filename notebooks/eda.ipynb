{
 "cells": [
  {
   "cell_type": "markdown",
   "metadata": {},
   "source": [
    "#### Exploratory Analysis"
   ]
  },
  {
   "cell_type": "markdown",
   "metadata": {},
   "source": [
    "required libraries"
   ]
  },
  {
   "cell_type": "code",
   "execution_count": 7,
   "metadata": {},
   "outputs": [],
   "source": [
    "import yfinance as yf\n",
    "import pandas as pd\n",
    "import numpy as np\n",
    "import matplotlib.pyplot as plt\n",
    "import seaborn as sns\n",
    "from statsmodels.tsa.seasonal import seasonal_decompose"
   ]
  },
  {
   "cell_type": "code",
   "execution_count": 9,
   "metadata": {},
   "outputs": [
    {
     "name": "stderr",
     "output_type": "stream",
     "text": [
      "[*********************100%***********************]  3 of 3 completed\n"
     ]
    }
   ],
   "source": [
    "# Define the tickers and time range\n",
    "tickers = ['TSLA', 'BND', 'SPY']\n",
    "start_date = '2015-01-01'\n",
    "end_date = '2024-10-31'\n",
    "\n",
    "\n",
    "# Download data from Yahoo Finance\n",
    "data = yf.download(tickers, start=start_date, end=end_date)\n",
    "\n",
    "# Only keep the 'Close' prices for simplicity\n",
    "data_df = data['Close']\n"
   ]
  },
  {
   "cell_type": "code",
   "execution_count": 10,
   "metadata": {},
   "outputs": [
    {
     "name": "stdout",
     "output_type": "stream",
     "text": [
      "Price                      Adj Close                             Close  \\\n",
      "Ticker                           BND         SPY       TSLA        BND   \n",
      "Date                                                                     \n",
      "2015-01-02 00:00:00+00:00  63.358757  173.173767  14.620667  82.650002   \n",
      "2015-01-05 00:00:00+00:00  63.542709  170.046295  14.006000  82.889999   \n",
      "2015-01-06 00:00:00+00:00  63.726685  168.444656  14.085333  83.129997   \n",
      "2015-01-07 00:00:00+00:00  63.765018  170.543671  14.063333  83.180000   \n",
      "2015-01-08 00:00:00+00:00  63.665413  173.569977  14.041333  83.050003   \n",
      "\n",
      "Price                                                  High              \\\n",
      "Ticker                            SPY       TSLA        BND         SPY   \n",
      "Date                                                                      \n",
      "2015-01-02 00:00:00+00:00  205.429993  14.620667  82.690002  206.880005   \n",
      "2015-01-05 00:00:00+00:00  201.720001  14.006000  82.919998  204.369995   \n",
      "2015-01-06 00:00:00+00:00  199.820007  14.085333  83.379997  202.720001   \n",
      "2015-01-07 00:00:00+00:00  202.309998  14.063333  83.279999  202.720001   \n",
      "2015-01-08 00:00:00+00:00  205.899994  14.041333  83.110001  206.160004   \n",
      "\n",
      "Price                                       Low                         \\\n",
      "Ticker                          TSLA        BND         SPY       TSLA   \n",
      "Date                                                                     \n",
      "2015-01-02 00:00:00+00:00  14.883333  82.419998  204.179993  14.217333   \n",
      "2015-01-05 00:00:00+00:00  14.433333  82.699997  201.350006  13.810667   \n",
      "2015-01-06 00:00:00+00:00  14.280000  83.029999  198.860001  13.614000   \n",
      "2015-01-07 00:00:00+00:00  14.318667  83.050003  200.880005  13.985333   \n",
      "2015-01-08 00:00:00+00:00  14.253333  82.970001  203.990005  14.000667   \n",
      "\n",
      "Price                           Open                          Volume  \\\n",
      "Ticker                           BND         SPY       TSLA      BND   \n",
      "Date                                                                   \n",
      "2015-01-02 00:00:00+00:00  82.430000  206.380005  14.858000  2218800   \n",
      "2015-01-05 00:00:00+00:00  82.739998  204.169998  14.303333  5820100   \n",
      "2015-01-06 00:00:00+00:00  83.029999  202.089996  14.004000  3887600   \n",
      "2015-01-07 00:00:00+00:00  83.139999  201.419998  14.223333  2433400   \n",
      "2015-01-08 00:00:00+00:00  83.110001  204.009995  14.187333  1873400   \n",
      "\n",
      "Price                                           \n",
      "Ticker                           SPY      TSLA  \n",
      "Date                                            \n",
      "2015-01-02 00:00:00+00:00  121465900  71466000  \n",
      "2015-01-05 00:00:00+00:00  169632600  80527500  \n",
      "2015-01-06 00:00:00+00:00  209151400  93928500  \n",
      "2015-01-07 00:00:00+00:00  125346700  44526000  \n",
      "2015-01-08 00:00:00+00:00  147217800  51637500  \n"
     ]
    }
   ],
   "source": [
    "# Display the first few rows of the data\n",
    "print(data.head())"
   ]
  },
  {
   "cell_type": "code",
   "execution_count": 13,
   "metadata": {},
   "outputs": [
    {
     "name": "stdout",
     "output_type": "stream",
     "text": [
      "\n",
      "Missing values per column:\n",
      "No missing values in any column.\n"
     ]
    }
   ],
   "source": [
    "# Check for missing values\n",
    "missing_values = data_df.isnull().sum()\n",
    "\n",
    "# Print missing values per column\n",
    "print(\"\\nMissing values per column:\")\n",
    "if missing_values.sum() == 0:\n",
    "    print(\"No missing values in any column.\")\n",
    "else:\n",
    "    print(missing_values)\n"
   ]
  }
 ],
 "metadata": {
  "kernelspec": {
   "display_name": "myenv_w_11",
   "language": "python",
   "name": "python3"
  },
  "language_info": {
   "codemirror_mode": {
    "name": "ipython",
    "version": 3
   },
   "file_extension": ".py",
   "mimetype": "text/x-python",
   "name": "python",
   "nbconvert_exporter": "python",
   "pygments_lexer": "ipython3",
   "version": "3.12.3"
  }
 },
 "nbformat": 4,
 "nbformat_minor": 2
}
